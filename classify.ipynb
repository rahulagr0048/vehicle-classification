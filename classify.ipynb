{
 "cells": [
  {
   "cell_type": "code",
   "execution_count": 7,
   "id": "181ea918",
   "metadata": {},
   "outputs": [],
   "source": [
    "import matplotlib.pyplot as plt\n",
    "import numpy as np\n",
    "import os\n",
    "import PIL\n",
    "import tensorflow as tf\n",
    "from glob import glob\n",
    "\n",
    "from tensorflow import keras\n",
    "from tensorflow.keras import layers\n",
    "from tensorflow.keras.models import Sequential\n",
    "import csv"
   ]
  },
  {
   "cell_type": "code",
   "execution_count": 8,
   "id": "8686961c",
   "metadata": {},
   "outputs": [],
   "source": [
    "new_model = tf.keras.models.load_model('saved_model/my_model3')"
   ]
  },
  {
   "cell_type": "code",
   "execution_count": 9,
   "id": "1955f4a2",
   "metadata": {},
   "outputs": [],
   "source": [
    "files = glob('{}/*/*_image.jpg'.format('test'))\n",
    "files.sort()"
   ]
  },
  {
   "cell_type": "code",
   "execution_count": 10,
   "id": "d2c01e3d",
   "metadata": {},
   "outputs": [
    {
     "name": "stderr",
     "output_type": "stream",
     "text": [
      "2021-12-08 20:52:50.615276: I tensorflow/core/grappler/optimizers/custom_graph_optimizer_registry.cc:112] Plugin optimizer for device_type GPU is enabled.\n"
     ]
    },
    {
     "name": "stdout",
     "output_type": "stream",
     "text": [
      "Wrote report file `test/test_labels_cnn_dpallep100test9.csv`\n"
     ]
    }
   ],
   "source": [
    "img_height = 180\n",
    "img_width = 180\n",
    "class_names = ['0', '1', '2']\n",
    "name = '{}/test_labels_cnn_dpallep100test9.csv'.format('test')\n",
    "with open(name, 'w') as f:\n",
    "    writer = csv.writer(f, delimiter=',', lineterminator='\\n')\n",
    "    writer.writerow(['guid/image', 'label'])\n",
    "    for file in files:\n",
    "        guid = file.split('/')[-2]\n",
    "        idx = file.split('/')[-1].replace('_image.jpg', '')\n",
    "        img = tf.keras.utils.load_img(\n",
    "        file, target_size=(img_height, img_width)\n",
    "        )\n",
    "        img_array = tf.keras.utils.img_to_array(img)\n",
    "        img_array = tf.expand_dims(img_array, 0) # Create a batch\n",
    "\n",
    "        predictions = new_model.predict(img_array)\n",
    "        score = tf.nn.softmax(predictions[0])\n",
    "        label = class_names[np.argmax(score)]\n",
    "        writer.writerow(['{}/{}'.format(guid, idx), label])\n",
    "    print('Wrote report file `{}`'.format(name))"
   ]
  },
  {
   "cell_type": "code",
   "execution_count": null,
   "id": "379ed985",
   "metadata": {},
   "outputs": [],
   "source": []
  }
 ],
 "metadata": {
  "kernelspec": {
   "display_name": "Python 3 (ipykernel)",
   "language": "python",
   "name": "python3"
  },
  "language_info": {
   "codemirror_mode": {
    "name": "ipython",
    "version": 3
   },
   "file_extension": ".py",
   "mimetype": "text/x-python",
   "name": "python",
   "nbconvert_exporter": "python",
   "pygments_lexer": "ipython3",
   "version": "3.8.8"
  }
 },
 "nbformat": 4,
 "nbformat_minor": 5
}
